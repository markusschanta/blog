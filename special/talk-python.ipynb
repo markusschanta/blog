{
 "cells": [
  {
   "cell_type": "markdown",
   "id": "24b4091a-380b-4314-a042-508018177279",
   "metadata": {},
   "source": [
    "---\n",
    "title: \"Talk Python - Episode Outline\"\n",
    "format:\n",
    "  html:\n",
    "    toc: true\n",
    "    toc-depth: 3\n",
    "<!-- description: Special pages for the blog -->\n",
    "---"
   ]
  },
  {
   "cell_type": "markdown",
   "id": "58c5c330-b851-402e-83a7-c69e2a801fc7",
   "metadata": {},
   "source": [
    "## Links from the show\n",
    "\n",
    "    Awesome Jupyter: https://github.com/markusschanta/awesome-jupyter\n",
    "\n",
    "    Markus Schanta\n",
    "    GitHub: https://github.com/markusschanta\n",
    "    Blog: https://blog.markus.schanta.at\n",
    "    Twitter: https://twitter.com/markusschanta\n",
    "\n",
    "    Some of the highlighted packages:\n",
    "    Altair: https://altair-viz.github.io\n",
    "    nbconvert: https://github.com/jupyter/nbconvert\n",
    "    Jupytext: https://jupytext.readthedocs.io\n",
    "    Deepnote: https://deepnote.com\n",
    "    nbdev: https://nbdev.fast.ai"
   ]
  },
  {
   "cell_type": "markdown",
   "id": "1922f696-2bb9-4ef2-80fe-36344a0312dd",
   "metadata": {
    "tags": []
   },
   "source": [
    "## Introduction\n",
    "\n",
    "### Bio\n",
    "\n",
    "I’m a Founding Partner of BlueBalance Capital, independent, owner-managed alternative asset management company based in Vienna. I’ve done that for over 3 years now. Before that I was a quant at the London-based asset management firm Man Group and before that, I was a quantitative strategist (Strat) at Goldman Sachs. I hold a Masters degree in Computer Science from Columbia University in New York, where I also received a Fulbright Scholarship and a Bachelors degree from Vienna University of Technology.\n",
    "\n",
    "### What do you do day-to-day?\n",
    "\n",
    "To summarise it in a concise answer, I’d say I analyse data. In my day-to-day job, that is very often a piece of financial data and most of the time it’s with the intention to better understand some economic development, a company or an industry. In technical terms, that means a lot of data wrangling in Python using pandas or visualising data. I used to quip that I make a living chaining pandas functions together in fancy ways. For better or worse it’s not far from the truth.\n",
    "\n",
    "### How did you get into programming? Python?\n",
    "\n",
    "Buying a computer when I was 10 years old was probably the best career decision my parents ever made for me. Started programming when I was 12 in C. That didn’t go to well. Learned Borland Delphi in high school. At Vienna University of Tech, the curriculum was mostly Java (2006), but also some Haskell and Prolog. First came in touch with Python at Columbia (2011). At Goldman, we used a proprietary language (Slang/SecDB). Man Group was Python, that’s where I learned “proper” Python. Been using it ever since for Data analysis/research/automation."
   ]
  },
  {
   "cell_type": "markdown",
   "id": "388a84b0-7e06-4529-8aca-9ceaf918f8b6",
   "metadata": {
    "tags": []
   },
   "source": [
    "## Tools from the List\n",
    "\n",
    "### Altair/Vega\n",
    "\n",
    "**[Link](https://altair-viz.github.io/)**\n",
    "\n",
    "  - Category: Visualisation\n",
    "  - Declarative Visualisation Library\n",
    "  - In general, visualisation libraries are dime-a-dozen\n",
    "  - Explain relationship between D3 / Vega / Altair\n",
    "  - Vega is to Data Visualization what SQL is to Data Querying. \n",
    "\n",
    "### nbconvert\n",
    "\n",
    "**[Link](https://github.com/jupyter/nbconvert)**\n",
    "\n",
    "  - Category: Conversion\n",
    "  - Convert a Jupyter notebook into HTML, LaTeX, PDF, Reveal JS, Markdown\n",
    "  - Scriptable\n",
    "  - Render notebooks with output only\n",
    "  - Inject parameters\n",
    "  - Officially part of Jupyter: well-maintained, documented, future-proof\n",
    "\n",
    "### Jupytext\n",
    "\n",
    "**[Link](https://jupytext.readthedocs.io/)**\n",
    "\n",
    "  - The .ipynb format stores input / output / meta-data.\n",
    "  - The advantage is that you get a meaningful output.\n",
    "  - One of the disadvantages is that you don’t get clean diffs.\n",
    "  - Paired notebooks: .ipynb <=> markdown-like format (percent format, jupytext)\n",
    "  - Clean diffs\n",
    "\n",
    "### Deepnote\n",
    "\n",
    "**[Link](https://deepnote.com/)**\n",
    "\n",
    "  - Hosted notebook solution\n",
    "  - Collaborative / environments\n",
    "    - Share\n",
    "    - Real-time collaboration\n",
    "    - Comments\n",
    "    - Permissions\n",
    "  - Additional capabilities\n",
    "    - Versions\n",
    "    - Scheduling\n",
    "    - Custom Environments\n",
    "    - Integrations\n",
    "  - Ergonomics\n",
    "    - Richer/denser UI\n",
    "    - Variable Explorer\n",
    "    - Environment\n",
    "\n",
    "### nbdev\n",
    "\n",
    "**[Link](https://nbdev.fast.ai/)**\n",
    "\n",
    "  - A true literate programming environment, as envisioned by Donald Knuth back in 1983\n",
    "  - “Write, test, document, and distribute software packages and technical articles — all in one place, your notebook.”\n",
    "  - Write code in your notebook.\n",
    "  - Write tests in your notebook. These can then run on Github.\n",
    "  - Write the documentation in the same notebook.\n",
    "  - Deploy packages from notebook."
   ]
  },
  {
   "cell_type": "markdown",
   "id": "0f6d2c15-46b8-45fb-9d2f-715ba5cb5ab6",
   "metadata": {},
   "source": [
    "## Miscellaneous\n",
    "\n",
    "### Favorite Editor\n",
    "  - Jupyter\n",
    "  - I'm definitely guilty of over-using it\n",
    "\n",
    "### Shout-out\n",
    "  - Jupyter builtins (%debug, %time, !)\n",
    "\n",
    "### How did I start the list\n",
    "  - first JupyterCon conference in New York, conference notes turned into this list\n",
    "\n",
    "### Final call to action\n",
    "  - If you build something, don’t be shy to put it on GitHub/blog: 1) you will learn something, 2) it will be a satisfying experience and 3) other people might find it useful\n",
    "\n",
    "### Open-ended Topics\n",
    "  - Python/Jupyter versus JavaScript/Observable for data analysis\n",
    "  - Use of Jupyter in the enterprise"
   ]
  }
 ],
 "metadata": {
  "kernelspec": {
   "display_name": "Python 3 (ipykernel)",
   "language": "python",
   "name": "python3"
  },
  "language_info": {
   "codemirror_mode": {
    "name": "ipython",
    "version": 3
   },
   "file_extension": ".py",
   "mimetype": "text/x-python",
   "name": "python",
   "nbconvert_exporter": "python",
   "pygments_lexer": "ipython3",
   "version": "3.9.2"
  }
 },
 "nbformat": 4,
 "nbformat_minor": 5
}
