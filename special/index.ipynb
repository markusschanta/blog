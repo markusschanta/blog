{
 "cells": [
  {
   "cell_type": "markdown",
   "id": "24b4091a-380b-4314-a042-508018177279",
   "metadata": {},
   "source": [
    "---\n",
    "title: \"Special\"\n",
    "<!-- description: Special pages for the blog -->\n",
    "---"
   ]
  },
  {
   "cell_type": "markdown",
   "id": "08b826c1-88a9-4eee-bd4f-d1beafa2da50",
   "metadata": {},
   "source": [
    "The code below shows the time of page generation:"
   ]
  },
  {
   "cell_type": "code",
   "execution_count": 17,
   "id": "c8db7ac2-0830-40fe-b31d-19373d700c07",
   "metadata": {},
   "outputs": [
    {
     "name": "stdout",
     "output_type": "stream",
     "text": [
      "This page was generated at Wednesday November 23 2022 at 12:32:54 (UTC).\n"
     ]
    }
   ],
   "source": [
    "import time\n",
    "\n",
    "generation = time.strftime('%A %B %d %Y at %H:%M:%S (UTC)')\n",
    "print(\"This page was generated at %s.\" % generation)"
   ]
  }
 ],
 "metadata": {
  "kernelspec": {
   "display_name": "Python 3 (ipykernel)",
   "language": "python",
   "name": "python3"
  },
  "language_info": {
   "codemirror_mode": {
    "name": "ipython",
    "version": 3
   },
   "file_extension": ".py",
   "mimetype": "text/x-python",
   "name": "python",
   "nbconvert_exporter": "python",
   "pygments_lexer": "ipython3",
   "version": "3.9.2"
  }
 },
 "nbformat": 4,
 "nbformat_minor": 5
}
